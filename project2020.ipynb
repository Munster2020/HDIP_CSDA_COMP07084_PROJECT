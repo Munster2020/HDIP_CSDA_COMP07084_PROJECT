{
 "cells": [
  {
   "cell_type": "markdown",
   "metadata": {},
   "source": [
    "![](GMIT_Logo.jpg)\n",
    "\n",
    "# Higher Diploma in Science in Computing (Data Analytics)\n",
    "#### Programme Module: Fundamentals of Data Analysis (COMP07084) \n",
    "---\n",
    "## Project 2020\n",
    "\n",
    "In this project you must perform and explain simple linear regression using Python on the `powerproduction` dataset available on Moodle. \n",
    "\n",
    "The goal is to accurately predict wind turbine `power` output from wind `speed` values using the data set as a basis.\n",
    "Your submission must be in the form of a git repository containing, at a minimum, the following items:\n",
    "\n",
    "1. Jupyter notebook that performs simple linear regression on the data set.\n",
    "2. In that notebook, an explanation of your regression and an analysis of its accuracy.\n",
    "3. Standard items in a git repository such as a README.\n",
    "\n",
    "To enhance your submission, you might consider comparing simple linear regression to other types of regression on this data set. Rest assured, all the above concepts will be explored in lecture videos and other materials in the coming semester.\n",
    "\n",
    "---"
   ]
  },
  {
   "cell_type": "markdown",
   "metadata": {},
   "source": [
    "## Bibliography"
   ]
  },
  {
   "cell_type": "markdown",
   "metadata": {},
   "source": [
    "Clifton, A., Kilcher, L., Lundquist, J. and Fleming, P., 2013. Using Machine Learning To Predict Wind Turbine Power Output. [online] ResearchGate. Available at: <https://www.researchgate.net/publication/257748412_Using_machine_learning_to_predict_wind_turbine_power_output> [Accessed 20 October 2020]."
   ]
  },
  {
   "cell_type": "markdown",
   "metadata": {},
   "source": [
    "Epaper.dk. 2020. IEA Wind TCP - Annual Report 2019. [online] Available at: <https://www.epaper.dk/steppaper/iea/iea-wind-a-rsrapport-2019/> [Accessed 18 October 2020]."
   ]
  },
  {
   "cell_type": "markdown",
   "metadata": {},
   "source": [
    "Miller, W., 2014. Predicting Wind Power With Greater Accuracy. [online] Str.llnl.gov. Available at: <https://str.llnl.gov/april-2014/miller> [Accessed 18 October 2020]."
   ]
  },
  {
   "cell_type": "markdown",
   "metadata": {},
   "source": [
    "Windeurope.org. 2020. Wind Energy In Europe In 2019. [online] Available at: <https://windeurope.org/wp-content/uploads/files/about-wind/statistics/WindEurope-Annual-Statistics-2019.pdf> [Accessed 19 October 2020]."
   ]
  },
  {
   "cell_type": "markdown",
   "metadata": {},
   "source": [
    "SEAI. 2011. Wind Energy Roadmap 2011-2050. [online] Available at: <https://www.seai.ie/publications/Wind_Energy_Roadmap_2011-2050.pdf> [Accessed 18 October 2020]."
   ]
  },
  {
   "cell_type": "markdown",
   "metadata": {},
   "source": [
    "Sølverød, F., 2017. Machine Learning For Wind Energy Prediction - Possible Improvements Over Traditional Methods. [online] Duo.uio.no. Available at: <https://www.duo.uio.no/bitstream/handle/10852/57735/Master_Thesis_Finn_Erik_20170525_FINAL.pdf?sequence=7&isAllowed=y> [Accessed 19 October 2020]."
   ]
  },
  {
   "cell_type": "markdown",
   "metadata": {},
   "source": [
    "Wang, X., Guo, P. and Huang, X., 2011. A Review Of Wind Power Forecasting Models. [online] Elsevier. Available at: <https://www.sciencedirect.com/science/article/pii/S1876610211019291> [Accessed 20 October 2020]."
   ]
  },
  {
   "cell_type": "markdown",
   "metadata": {},
   "source": [
    "Evans, R., 2019. Simple Linear Regression - An Easy Introduction & Examples. [online] Scribbr. Available at: <https://www.scribbr.com/statistics/simple-linear-regression/> [Accessed 20 October 2020]."
   ]
  },
  {
   "cell_type": "markdown",
   "metadata": {},
   "source": [
    "Khamushkin, I., 2017. Calculating Energy Production From Weather Forecast In Python. [online] Medium. Available at: <https://medium.com/planet-os/calculating-energy-production-from-weather-forecast-in-python-3c990047daa> [Accessed 20 October 2020]."
   ]
  },
  {
   "cell_type": "code",
   "execution_count": null,
   "metadata": {},
   "outputs": [],
   "source": []
  }
 ],
 "metadata": {
  "kernelspec": {
   "display_name": "Python 3",
   "language": "python",
   "name": "python3"
  },
  "language_info": {
   "codemirror_mode": {
    "name": "ipython",
    "version": 3
   },
   "file_extension": ".py",
   "mimetype": "text/x-python",
   "name": "python",
   "nbconvert_exporter": "python",
   "pygments_lexer": "ipython3",
   "version": "3.8.3"
  }
 },
 "nbformat": 4,
 "nbformat_minor": 4
}
