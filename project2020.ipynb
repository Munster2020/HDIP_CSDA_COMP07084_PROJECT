{
 "cells": [
  {
   "cell_type": "markdown",
   "metadata": {},
   "source": [
    "![](GMIT_Logo.jpg)\n",
    "\n",
    "# Higher Diploma in Science in Computing (Data Analytics)\n",
    "#### Programme Module: Fundamentals of Data Analysis (COMP07084) \n",
    "---\n",
    "## Project 2020\n",
    "\n",
    "In this project you must perform and explain simple linear regression using Python on the `powerproduction` dataset available on Moodle. \n",
    "\n",
    "The goal is to accurately predict wind turbine `power` output from wind `speed` values using the data set as a basis.\n",
    "Your submission must be in the form of a git repository containing, at a minimum, the following items:\n",
    "\n",
    "1. Jupyter notebook that performs simple linear regression on the data set.\n",
    "2. In that notebook, an explanation of your regression and an analysis of its accuracy.\n",
    "3. Standard items in a git repository such as a README.\n",
    "\n",
    "To enhance your submission, you might consider comparing simple linear regression to other types of regression on this data set. Rest assured, all the above concepts will be explored in lecture videos and other materials in the coming semester.\n",
    "\n",
    "---"
   ]
  },
  {
   "cell_type": "markdown",
   "metadata": {},
   "source": [
    "![](Banner.jpg)"
   ]
  },
  {
   "cell_type": "markdown",
   "metadata": {},
   "source": [
    "## Wind Energy\n",
    "---\n",
    "### Introduction\n",
    "Energy demand across the world is increasing rapidly because of population and economic growth especially in emerging market economies. This has meant the search for new energy resources has intensified across the globe. The supply of energy is a key element in a countries social and economic development so much so that it can impact international relations. Conflicts in Iraq/Syria, South Sudan, the Crimea/Ukraine, and the South China Sea show the desire to control valuable oil and gas assets is fuelling long-standing historic tensions. Michael Klare argues that *“in a fossil-fuel world, control over oil and gas reserves is an essential component of national power”*. (Klare, 2014)\n",
    "\n",
    "These factors combined with the impact of climate change mean the world will increasingly use renewable energy instead of fossil fuels in order to meet energy demand. Wind energy is seen as a positive alternative to fossil fuels but as with all renewables it has advantages as well as disadvantges. Although the manufacturer and installation of wind turbines does involve the release of some pollution into the environment, in the long run it is a source of clean energy and does not emit any greenhouse gases. It is renewable, space efficient, low cost and promotes job creation. However, it does have disadvantages, including its intermittent and unpredictable nature, noise issues, wildlife habitat dislocation as well as impacting tourism with some considering it an eye sore. It also faces location limitation issues, *“because to be economically viable, they need to be installed in a place where they will produce enough electricity, which means coastal areas, the tops of hills, and open planes - essentially anywhere with strong, reliable wind.  Most of these suitable places tend to be in remote areas far outside of cities and towns, in more rural areas or offshore. Because of this distance, new infrastructure, such as power lines, have to be built in order to connect a wind farm to the power grid”*. (Lane, 2020)\n",
    "\n",
    "### Facts and figures\n",
    "In 2019 global direct primary energy consumption stood at 158,839 TWh with renewable energy sources (RES) accounting for 19,219 TWh or 12.1% of this figure. Within (RES) wind energy contributed 6.6%  or 1,270 TWh of all renewables. In 2019 Europe had 205 GW of wind energy capacity accounting for 15% of the EU-28 consumed electricity. An additional 15.4 GW of new wind power capacity was added in 2019 an increase of 27% on the previous year. \n",
    "\n",
    "Within Europe ten member states are achieving wind power shares above 10%. *“The highest share, and a new record, was set by Denmark where 47% of the electricity demand in 2019 was met by wind energy, followed by Ireland at 32% and Portugal at 27%”* (Windeurope.org, 2020).\n",
    "\n",
    "In Ireland wind energy is the largest contributing resource of renewable power. According to the Sustainable Energy Authority of  Ireland (SEAI) in their Wind Energy Roadmap, *“wind energy has the potential to generate enough electricity to exceed domestic demand by 2030 and for its wind market to become export driven in the 2020-2030 timeframe”* (SEAI, 2011). This could generate €15 billion in economic value and lead to the creation of 20,000 jobs in the installation, operation and maintenance of wind farms. It would also present a large carbon abatement in the range of 400 to 450 metric tonnes of CO2 by 2050.\n",
    "\n",
    "In order to achieve these ambitious goals significant investment is required and it is estimated that the wind industry would hit a peak annual investment of between €6 billion and €12 billion by 2040 (SEAI, 2011). Caution should be applied however when assessing investment in wind energy. One report has identified a payback period of 23 years for an investment in a wind energy project, which would be a disappointing timeframe for investors. However, this does not have to be the case if a significant feasibility assessment is carried out.\n",
    "\n",
    "According to a study carried out by TUD, if due consideration is given to *“site selection, electricity market conditions, the quality of the control system and the competencies of the design/installation/commissioning company”* (Kealy, 2015) there should be a positive outcome for investors, consumers and the environment. Their study based on a wind farm in the North East of Ireland were an average capacity factor of 34% was returned from the wind farm’s turbines a payback period of 6.7 years was set. Because of the intermittent nature of wind, turbines typically produce only 20% - 40% of their maximum possible output over the course of a year which is known as the capacity factor (Miller, 2014).\n",
    "\n",
    "### Location\n",
    "The crucial factor in the location of wind farms is calculating the annual energy production and how the energy it produces compares to alternative sources of energy. Key to this is access to and modelling of long-term data. Data should be collected from a potential site over a two to three-year timeframe. From this data the long-term annual variability needs to be calculated and can the renewable energy production output be predicted/forecast (Nelson, 2019). Modelling solutions at their most basic can be done through physical modelling via computational fluid dynamics or mathematical modelling via regular linear algebra.  \n",
    "\n",
    "Simple mathematical modelling on its own won’t provide the accuracy but will suffice for common use cases like estimating maximum power production. This is the case with wind turbine manufacturers using power curve modelling techniques. The wind turbine power curve shows the relationship between wind speed and power generated *“for different wind speeds. A typical wind turbine power curve has three main characteristic speeds: 1) cut-in (Vc ); 2) rated (Vr ); and 3) cut-out (Vs) speeds. The turbine starts generating power when the wind speed reaches the cut-in value. The rated speed is the wind speed at which the generator is producing the machine’s rated power. When the wind speed reaches the cut-out speed, the power generation is shut down to prevent defects and damages”* (Wadhvani, 2017).\n",
    "\n",
    "Power curves can oversimplify reality though and can err by plus or minus 20% the actual power output. In actuality additional variables must be factored in (Miller, 2014). For example, *“wind speed at heights below and above the hub, wind shear, and turbulence are also strong predictors of power production”*. Any model used in predicting power output from wind turbines must also quantify uncertainty or confidence level associated with them. *“Such confidence levels are particularly of value to electric grid operators, who need both the predictions of output and the associated levels of confidence to determine an optimal schedule for turning various sources of power on and off. Quantifying output uncertainty is also crucial for siting wind farms”*(Miller, 2014). Outliers also need to be considered in any model, wind ramps being one of the most important. Because power output is proportional to the cube of the wind speed a wind ramp can result in a dramatic change in power production.  *“Consequently, accurate wind ramp prediction is extremely important, leading some experts to refer to it as “the Holy Grail of wind forecasting.”(Miller, 2014)*\n",
    "\n",
    "\n"
   ]
  },
  {
   "cell_type": "markdown",
   "metadata": {},
   "source": [
    "### Simple linear regression"
   ]
  },
  {
   "cell_type": "markdown",
   "metadata": {},
   "source": [
    "For this project we had to perform a simple linear regression on a dataset relating to wind turbines with the goal of accurately predicting wind turbine power output from the wind speed values. Regression is a statistical technique which is used to investigate the relationship between variables. When we only have one input variable, in this case wind speed, it is a simple linear regression, when there is more than one input variable then a multiple linear regression would be used.\n",
    "\n",
    "The equation for a simple linear regression is $y=w0+w1*x1$. In our case we know the input variable $x1$ is wind speed and $y$ is power output. \n",
    "\n",
    "$w0$ and $w1$ are the two coefficients, where $w0$ is the intercept (of the y-axis), and $w1$ is the slope of the line. $w1$ shows the impact of the independent variable $x1$ on $y$. \n",
    "\n",
    "For example, when $w1$ = 0, there’s no impact of $x1$ on $y$ since $(0*x1 = 0)$. (Linear Regression in Machine Learning, 2020). \n",
    "\n",
    "Therefore simply, linear regression is an algorithm that finds the best values of w0 and w1 to fit the training dataset. (Linear Regression in Machine Learning, 2020).\n",
    "\n",
    "---"
   ]
  },
  {
   "cell_type": "markdown",
   "metadata": {},
   "source": [
    "### 1. Importing the required libraries "
   ]
  },
  {
   "cell_type": "markdown",
   "metadata": {},
   "source": [
    "<img src=\"Numpy.png\" align=\"left\" alt=\"Drawing\" width=\"70\"/>\n",
    "Numerical Python or NumPy is the first library we require. NumPy is the fundamental package for scientific computing in Python. It is a Python library that provides a multidimensional array object, various derived objects (such as masked arrays and matrices), and an assortment of routines for fast operations on arrays, including mathematical, logical, shape manipulation, sorting, selecting, I/O, discrete Fourier transforms, basic linear algebra, basic statistical operations, random simulation and much more."
   ]
  },
  {
   "cell_type": "code",
   "execution_count": 1,
   "metadata": {
    "ExecuteTime": {
     "end_time": "2020-12-23T11:13:57.646867Z",
     "start_time": "2020-12-23T11:13:57.346075Z"
    }
   },
   "outputs": [],
   "source": [
    "import numpy as np"
   ]
  },
  {
   "cell_type": "markdown",
   "metadata": {},
   "source": [
    "<img src=\"Pandas.png\" align=\"left\" alt=\"Drawing\" width=\"75\"/>\n",
    "Next import the pandas library. pandas is a fast, powerful, flexible and easy to use open source data analysis and manipulation tool,built on top of the Python programming language."
   ]
  },
  {
   "cell_type": "code",
   "execution_count": 2,
   "metadata": {
    "ExecuteTime": {
     "end_time": "2020-12-23T11:13:58.194890Z",
     "start_time": "2020-12-23T11:13:57.646867Z"
    }
   },
   "outputs": [],
   "source": [
    "import pandas as pd"
   ]
  },
  {
   "cell_type": "markdown",
   "metadata": {},
   "source": [
    "<img src=\"statsmodel.PNG\" align=\"left\" alt=\"Drawing\" width=\"75\"/>\n",
    "Next up import statsmodels. statsmodels is a Python module that provides classes and functions for the estimation of many different statistical models, as well as for conducting statistical tests, and statistical data exploration. An extensive list of result statistics are available for each estimator. The results are tested against existing statistical packages to ensure that they are correct."
   ]
  },
  {
   "cell_type": "code",
   "execution_count": 3,
   "metadata": {
    "ExecuteTime": {
     "end_time": "2020-12-23T11:13:58.210500Z",
     "start_time": "2020-12-23T11:13:58.194890Z"
    }
   },
   "outputs": [],
   "source": [
    "import statsmodels as sm"
   ]
  },
  {
   "cell_type": "markdown",
   "metadata": {},
   "source": [
    "<img src=\"Matplotlib.jpeg\" align=\"left\" alt=\"Drawing\" width=\"150\"/>\n",
    "Finally we need to import Matplotlib a plotting library available for the Python programming language as a component of NumPy. Matplotlib embeds plots in Python applications. Seaborn is a Python data visualization library based on matplotlib. It provides a high-level interface for drawing attractive and informative statistical graphics. The `%matplotlib inline` statement will cause our matplotlib visualizations to embed themselves directly in our Jupyter Notebook, which makes them easier to access and interpret."
   ]
  },
  {
   "cell_type": "code",
   "execution_count": 4,
   "metadata": {
    "ExecuteTime": {
     "end_time": "2020-12-23T11:13:58.595933Z",
     "start_time": "2020-12-23T11:13:58.210500Z"
    }
   },
   "outputs": [],
   "source": [
    "import matplotlib.pyplot as plt\n",
    "%matplotlib inline"
   ]
  },
  {
   "cell_type": "markdown",
   "metadata": {},
   "source": [
    "<img src=\"seaborn.png\" align=\"left\" alt=\"Drawing\" width=\"100\"/>\n",
    "Seaborn is a Python data visualization library based on matplotlib. It provides a high-level interface for drawing attractive and informative statistical graphics."
   ]
  },
  {
   "cell_type": "code",
   "execution_count": 5,
   "metadata": {
    "ExecuteTime": {
     "end_time": "2020-12-23T11:13:59.466807Z",
     "start_time": "2020-12-23T11:13:58.595933Z"
    }
   },
   "outputs": [],
   "source": [
    "import seaborn as sns"
   ]
  },
  {
   "cell_type": "markdown",
   "metadata": {},
   "source": [
    "---"
   ]
  },
  {
   "cell_type": "markdown",
   "metadata": {},
   "source": [
    "### 2. Create dataframe"
   ]
  },
  {
   "cell_type": "markdown",
   "metadata": {},
   "source": [
    "Now let's load the data from the`powerproduction` csv file provided using the pandas.read_csv function."
   ]
  },
  {
   "cell_type": "code",
   "execution_count": 6,
   "metadata": {
    "ExecuteTime": {
     "end_time": "2020-12-23T11:13:59.498052Z",
     "start_time": "2020-12-23T11:13:59.466807Z"
    }
   },
   "outputs": [],
   "source": [
    "dataset = pd.read_csv('powerproduction.csv', delimiter = ',')"
   ]
  },
  {
   "cell_type": "markdown",
   "metadata": {},
   "source": [
    "---"
   ]
  },
  {
   "cell_type": "markdown",
   "metadata": {},
   "source": [
    "### 3. Data exploration\n",
    "Having obtained the data, the next step is to perform some exploratory data analysis, looking in more detail at the dataset attributes."
   ]
  },
  {
   "cell_type": "markdown",
   "metadata": {},
   "source": [
    "#### 3.1 DataFrame.info"
   ]
  },
  {
   "cell_type": "markdown",
   "metadata": {},
   "source": [
    "Now lets take a quick look at the data types and if there are any null records in the dataset using the pandas.DataFrame.info function"
   ]
  },
  {
   "cell_type": "code",
   "execution_count": 7,
   "metadata": {
    "ExecuteTime": {
     "end_time": "2020-12-23T11:13:59.513672Z",
     "start_time": "2020-12-23T11:13:59.498052Z"
    },
    "scrolled": true
   },
   "outputs": [
    {
     "name": "stdout",
     "output_type": "stream",
     "text": [
      "<class 'pandas.core.frame.DataFrame'>\n",
      "RangeIndex: 500 entries, 0 to 499\n",
      "Data columns (total 2 columns):\n",
      " #   Column  Non-Null Count  Dtype  \n",
      "---  ------  --------------  -----  \n",
      " 0   speed   500 non-null    float64\n",
      " 1   power   500 non-null    float64\n",
      "dtypes: float64(2)\n",
      "memory usage: 7.9 KB\n"
     ]
    }
   ],
   "source": [
    "dataset.info()"
   ]
  },
  {
   "cell_type": "markdown",
   "metadata": {},
   "source": [
    "The dataset has only two columns, speed and power and both are floats. There is 500 records in the dataset and no null records."
   ]
  },
  {
   "cell_type": "markdown",
   "metadata": {},
   "source": [
    "#### 3.2 DataFrame.head"
   ]
  },
  {
   "cell_type": "markdown",
   "metadata": {},
   "source": [
    "First I'm going to have a look at the first 10 records of the dataset using the pandas.DataFrame.head function. "
   ]
  },
  {
   "cell_type": "code",
   "execution_count": 8,
   "metadata": {
    "ExecuteTime": {
     "end_time": "2020-12-23T11:13:59.551455Z",
     "start_time": "2020-12-23T11:13:59.513672Z"
    }
   },
   "outputs": [
    {
     "data": {
      "text/html": [
       "<div>\n",
       "<style scoped>\n",
       "    .dataframe tbody tr th:only-of-type {\n",
       "        vertical-align: middle;\n",
       "    }\n",
       "\n",
       "    .dataframe tbody tr th {\n",
       "        vertical-align: top;\n",
       "    }\n",
       "\n",
       "    .dataframe thead th {\n",
       "        text-align: right;\n",
       "    }\n",
       "</style>\n",
       "<table border=\"1\" class=\"dataframe\">\n",
       "  <thead>\n",
       "    <tr style=\"text-align: right;\">\n",
       "      <th></th>\n",
       "      <th>speed</th>\n",
       "      <th>power</th>\n",
       "    </tr>\n",
       "  </thead>\n",
       "  <tbody>\n",
       "    <tr>\n",
       "      <th>0</th>\n",
       "      <td>0.000</td>\n",
       "      <td>0.000</td>\n",
       "    </tr>\n",
       "    <tr>\n",
       "      <th>1</th>\n",
       "      <td>0.125</td>\n",
       "      <td>0.000</td>\n",
       "    </tr>\n",
       "    <tr>\n",
       "      <th>2</th>\n",
       "      <td>0.150</td>\n",
       "      <td>0.000</td>\n",
       "    </tr>\n",
       "    <tr>\n",
       "      <th>3</th>\n",
       "      <td>0.225</td>\n",
       "      <td>0.000</td>\n",
       "    </tr>\n",
       "    <tr>\n",
       "      <th>4</th>\n",
       "      <td>0.275</td>\n",
       "      <td>0.000</td>\n",
       "    </tr>\n",
       "    <tr>\n",
       "      <th>5</th>\n",
       "      <td>0.325</td>\n",
       "      <td>4.331</td>\n",
       "    </tr>\n",
       "    <tr>\n",
       "      <th>6</th>\n",
       "      <td>0.400</td>\n",
       "      <td>5.186</td>\n",
       "    </tr>\n",
       "    <tr>\n",
       "      <th>7</th>\n",
       "      <td>0.450</td>\n",
       "      <td>3.826</td>\n",
       "    </tr>\n",
       "    <tr>\n",
       "      <th>8</th>\n",
       "      <td>0.501</td>\n",
       "      <td>1.048</td>\n",
       "    </tr>\n",
       "    <tr>\n",
       "      <th>9</th>\n",
       "      <td>0.526</td>\n",
       "      <td>5.553</td>\n",
       "    </tr>\n",
       "  </tbody>\n",
       "</table>\n",
       "</div>"
      ],
      "text/plain": [
       "   speed  power\n",
       "0  0.000  0.000\n",
       "1  0.125  0.000\n",
       "2  0.150  0.000\n",
       "3  0.225  0.000\n",
       "4  0.275  0.000\n",
       "5  0.325  4.331\n",
       "6  0.400  5.186\n",
       "7  0.450  3.826\n",
       "8  0.501  1.048\n",
       "9  0.526  5.553"
      ]
     },
     "execution_count": 8,
     "metadata": {},
     "output_type": "execute_result"
    }
   ],
   "source": [
    "dataset.head(10)"
   ]
  },
  {
   "cell_type": "markdown",
   "metadata": {},
   "source": [
    "From the results it's clear the wind turbine only begins to produce output after a certain wind speed is reached. This makes sense as the blades on wind turbines only begin to rotate once the cut-in speed is reached. The cut-in speed for most turbines is around 3-5 metres per second (m/s), or 8-12 miles per hour (mph). Around cut-in, the generator may be used as a motor to help the wind overcome inertia and start the blades turning. (Enerpower, 2020). Now lets examine the last 10 records in the dataset using the pandas.DataFrame.tail function."
   ]
  },
  {
   "cell_type": "markdown",
   "metadata": {},
   "source": [
    "#### 3.3 DataFrame.tail"
   ]
  },
  {
   "cell_type": "code",
   "execution_count": 9,
   "metadata": {
    "ExecuteTime": {
     "end_time": "2020-12-23T11:13:59.582710Z",
     "start_time": "2020-12-23T11:13:59.551455Z"
    }
   },
   "outputs": [
    {
     "data": {
      "text/html": [
       "<div>\n",
       "<style scoped>\n",
       "    .dataframe tbody tr th:only-of-type {\n",
       "        vertical-align: middle;\n",
       "    }\n",
       "\n",
       "    .dataframe tbody tr th {\n",
       "        vertical-align: top;\n",
       "    }\n",
       "\n",
       "    .dataframe thead th {\n",
       "        text-align: right;\n",
       "    }\n",
       "</style>\n",
       "<table border=\"1\" class=\"dataframe\">\n",
       "  <thead>\n",
       "    <tr style=\"text-align: right;\">\n",
       "      <th></th>\n",
       "      <th>speed</th>\n",
       "      <th>power</th>\n",
       "    </tr>\n",
       "  </thead>\n",
       "  <tbody>\n",
       "    <tr>\n",
       "      <th>490</th>\n",
       "      <td>24.499</td>\n",
       "      <td>0.0</td>\n",
       "    </tr>\n",
       "    <tr>\n",
       "      <th>491</th>\n",
       "      <td>24.525</td>\n",
       "      <td>0.0</td>\n",
       "    </tr>\n",
       "    <tr>\n",
       "      <th>492</th>\n",
       "      <td>24.575</td>\n",
       "      <td>0.0</td>\n",
       "    </tr>\n",
       "    <tr>\n",
       "      <th>493</th>\n",
       "      <td>24.650</td>\n",
       "      <td>0.0</td>\n",
       "    </tr>\n",
       "    <tr>\n",
       "      <th>494</th>\n",
       "      <td>24.750</td>\n",
       "      <td>0.0</td>\n",
       "    </tr>\n",
       "    <tr>\n",
       "      <th>495</th>\n",
       "      <td>24.775</td>\n",
       "      <td>0.0</td>\n",
       "    </tr>\n",
       "    <tr>\n",
       "      <th>496</th>\n",
       "      <td>24.850</td>\n",
       "      <td>0.0</td>\n",
       "    </tr>\n",
       "    <tr>\n",
       "      <th>497</th>\n",
       "      <td>24.875</td>\n",
       "      <td>0.0</td>\n",
       "    </tr>\n",
       "    <tr>\n",
       "      <th>498</th>\n",
       "      <td>24.950</td>\n",
       "      <td>0.0</td>\n",
       "    </tr>\n",
       "    <tr>\n",
       "      <th>499</th>\n",
       "      <td>25.000</td>\n",
       "      <td>0.0</td>\n",
       "    </tr>\n",
       "  </tbody>\n",
       "</table>\n",
       "</div>"
      ],
      "text/plain": [
       "      speed  power\n",
       "490  24.499    0.0\n",
       "491  24.525    0.0\n",
       "492  24.575    0.0\n",
       "493  24.650    0.0\n",
       "494  24.750    0.0\n",
       "495  24.775    0.0\n",
       "496  24.850    0.0\n",
       "497  24.875    0.0\n",
       "498  24.950    0.0\n",
       "499  25.000    0.0"
      ]
     },
     "execution_count": 9,
     "metadata": {},
     "output_type": "execute_result"
    }
   ],
   "source": [
    "dataset.tail(10)"
   ]
  },
  {
   "cell_type": "markdown",
   "metadata": {},
   "source": [
    "From the data displayed it appears no power is produced after a set wind speed is reached, this is called the cut-out speed which is around 24 m/s or 55 mph or greater. This is to prevent wear and tear. Since winds of this strength occur only for a handful of hours per year, very little energy is lost in high wind periods.(Enerpower, 2020)"
   ]
  },
  {
   "cell_type": "markdown",
   "metadata": {},
   "source": [
    "---"
   ]
  },
  {
   "cell_type": "markdown",
   "metadata": {},
   "source": [
    "### 4. Summary statistics"
   ]
  },
  {
   "cell_type": "markdown",
   "metadata": {},
   "source": [
    "#### 4.1 DataFrame.describe"
   ]
  },
  {
   "cell_type": "markdown",
   "metadata": {},
   "source": [
    "DataFrame.describe produces descriptive statistics that include summaries of the central tendency, dispersion and shape of a dataset’s distribution, excluding NaN values."
   ]
  },
  {
   "cell_type": "code",
   "execution_count": 10,
   "metadata": {
    "ExecuteTime": {
     "end_time": "2020-12-23T11:13:59.613935Z",
     "start_time": "2020-12-23T11:13:59.582710Z"
    }
   },
   "outputs": [
    {
     "data": {
      "text/html": [
       "<div>\n",
       "<style scoped>\n",
       "    .dataframe tbody tr th:only-of-type {\n",
       "        vertical-align: middle;\n",
       "    }\n",
       "\n",
       "    .dataframe tbody tr th {\n",
       "        vertical-align: top;\n",
       "    }\n",
       "\n",
       "    .dataframe thead th {\n",
       "        text-align: right;\n",
       "    }\n",
       "</style>\n",
       "<table border=\"1\" class=\"dataframe\">\n",
       "  <thead>\n",
       "    <tr style=\"text-align: right;\">\n",
       "      <th></th>\n",
       "      <th>speed</th>\n",
       "      <th>power</th>\n",
       "    </tr>\n",
       "  </thead>\n",
       "  <tbody>\n",
       "    <tr>\n",
       "      <th>count</th>\n",
       "      <td>500.000000</td>\n",
       "      <td>500.000000</td>\n",
       "    </tr>\n",
       "    <tr>\n",
       "      <th>mean</th>\n",
       "      <td>12.590398</td>\n",
       "      <td>48.014584</td>\n",
       "    </tr>\n",
       "    <tr>\n",
       "      <th>std</th>\n",
       "      <td>7.224991</td>\n",
       "      <td>41.614572</td>\n",
       "    </tr>\n",
       "    <tr>\n",
       "      <th>min</th>\n",
       "      <td>0.000000</td>\n",
       "      <td>0.000000</td>\n",
       "    </tr>\n",
       "    <tr>\n",
       "      <th>25%</th>\n",
       "      <td>6.324750</td>\n",
       "      <td>5.288000</td>\n",
       "    </tr>\n",
       "    <tr>\n",
       "      <th>50%</th>\n",
       "      <td>12.550500</td>\n",
       "      <td>41.645500</td>\n",
       "    </tr>\n",
       "    <tr>\n",
       "      <th>75%</th>\n",
       "      <td>18.775250</td>\n",
       "      <td>93.537000</td>\n",
       "    </tr>\n",
       "    <tr>\n",
       "      <th>max</th>\n",
       "      <td>25.000000</td>\n",
       "      <td>113.556000</td>\n",
       "    </tr>\n",
       "  </tbody>\n",
       "</table>\n",
       "</div>"
      ],
      "text/plain": [
       "            speed       power\n",
       "count  500.000000  500.000000\n",
       "mean    12.590398   48.014584\n",
       "std      7.224991   41.614572\n",
       "min      0.000000    0.000000\n",
       "25%      6.324750    5.288000\n",
       "50%     12.550500   41.645500\n",
       "75%     18.775250   93.537000\n",
       "max     25.000000  113.556000"
      ]
     },
     "execution_count": 10,
     "metadata": {},
     "output_type": "execute_result"
    }
   ],
   "source": [
    "dataset.describe()"
   ]
  },
  {
   "cell_type": "code",
   "execution_count": 11,
   "metadata": {
    "ExecuteTime": {
     "end_time": "2020-12-23T11:13:59.883495Z",
     "start_time": "2020-12-23T11:13:59.613935Z"
    }
   },
   "outputs": [
    {
     "data": {
      "image/png": "[encoded data removed]",
      "text/plain": [
       "<Figure size 432x288 with 1 Axes>"
      ]
     },
     "metadata": {
      "needs_background": "light"
     },
     "output_type": "display_data"
    }
   ],
   "source": [
    "#plt.boxplot(dataset[\"speed\"]);\n",
    "#sns.set_theme(style=\"whitegrid\");\n",
    "sns.lineplot(data=dataset[\"speed\"], palette=\"tab10\", linewidth=2.5,style=\"darkgrid\");"
   ]
  },
  {
   "cell_type": "code",
   "execution_count": 12,
   "metadata": {
    "ExecuteTime": {
     "end_time": "2020-12-23T11:13:59.899122Z",
     "start_time": "2020-12-23T11:13:59.883495Z"
    }
   },
   "outputs": [
    {
     "data": {
      "text/plain": [
       "speed    12.590398\n",
       "power    48.014584\n",
       "dtype: float64"
      ]
     },
     "execution_count": 12,
     "metadata": {},
     "output_type": "execute_result"
    }
   ],
   "source": [
    "dataset.mean()"
   ]
  },
  {
   "cell_type": "code",
   "execution_count": 13,
   "metadata": {
    "ExecuteTime": {
     "end_time": "2020-12-23T11:13:59.914737Z",
     "start_time": "2020-12-23T11:13:59.899122Z"
    }
   },
   "outputs": [
    {
     "data": {
      "text/plain": [
       "speed    12.5505\n",
       "power    41.6455\n",
       "dtype: float64"
      ]
     },
     "execution_count": 13,
     "metadata": {},
     "output_type": "execute_result"
    }
   ],
   "source": [
    "dataset.median()"
   ]
  },
  {
   "cell_type": "code",
   "execution_count": 14,
   "metadata": {
    "ExecuteTime": {
     "end_time": "2020-12-23T11:13:59.930373Z",
     "start_time": "2020-12-23T11:13:59.914737Z"
    }
   },
   "outputs": [
    {
     "data": {
      "text/plain": [
       "speed      52.200499\n",
       "power    1731.772627\n",
       "dtype: float64"
      ]
     },
     "execution_count": 14,
     "metadata": {},
     "output_type": "execute_result"
    }
   ],
   "source": [
    "dataset.var()"
   ]
  },
  {
   "cell_type": "code",
   "execution_count": 15,
   "metadata": {
    "ExecuteTime": {
     "end_time": "2020-12-23T11:13:59.952507Z",
     "start_time": "2020-12-23T11:13:59.930373Z"
    }
   },
   "outputs": [
    {
     "data": {
      "text/plain": [
       "speed     7.224991\n",
       "power    41.614572\n",
       "dtype: float64"
      ]
     },
     "execution_count": 15,
     "metadata": {},
     "output_type": "execute_result"
    }
   ],
   "source": [
    "dataset.std()"
   ]
  },
  {
   "cell_type": "code",
   "execution_count": null,
   "metadata": {},
   "outputs": [],
   "source": []
  },
  {
   "cell_type": "code",
   "execution_count": 16,
   "metadata": {
    "ExecuteTime": {
     "end_time": "2020-12-23T11:13:59.968130Z",
     "start_time": "2020-12-23T11:13:59.952507Z"
    }
   },
   "outputs": [],
   "source": [
    "x = dataset.iloc[:, :-1].values\n",
    "y = dataset.iloc[:, 1].values"
   ]
  },
  {
   "cell_type": "code",
   "execution_count": 17,
   "metadata": {
    "ExecuteTime": {
     "end_time": "2020-12-23T11:14:00.199852Z",
     "start_time": "2020-12-23T11:13:59.968130Z"
    }
   },
   "outputs": [],
   "source": [
    "from sklearn.model_selection import train_test_split"
   ]
  },
  {
   "cell_type": "code",
   "execution_count": 18,
   "metadata": {
    "ExecuteTime": {
     "end_time": "2020-12-23T11:14:00.215472Z",
     "start_time": "2020-12-23T11:14:00.199852Z"
    }
   },
   "outputs": [],
   "source": [
    "x_train, x_test, y_train, y_test = train_test_split(x, y, test_size=0.2, random_state=0)"
   ]
  },
  {
   "cell_type": "code",
   "execution_count": 19,
   "metadata": {
    "ExecuteTime": {
     "end_time": "2020-12-23T11:14:00.415953Z",
     "start_time": "2020-12-23T11:14:00.215472Z"
    }
   },
   "outputs": [
    {
     "name": "stdout",
     "output_type": "stream",
     "text": [
      "[4.89542079]\n"
     ]
    }
   ],
   "source": [
    "from sklearn.linear_model import LinearRegression\n",
    "model = LinearRegression()\n",
    "model.fit(x_train, y_train)\n",
    "print(model.coef_)"
   ]
  },
  {
   "cell_type": "code",
   "execution_count": 20,
   "metadata": {
    "ExecuteTime": {
     "end_time": "2020-12-23T11:14:00.431576Z",
     "start_time": "2020-12-23T11:14:00.415953Z"
    }
   },
   "outputs": [
    {
     "name": "stdout",
     "output_type": "stream",
     "text": [
      "-13.603433993820211\n"
     ]
    }
   ],
   "source": [
    "print(model.intercept_)"
   ]
  },
  {
   "cell_type": "code",
   "execution_count": 21,
   "metadata": {
    "ExecuteTime": {
     "end_time": "2020-12-23T11:14:00.453721Z",
     "start_time": "2020-12-23T11:14:00.431576Z"
    }
   },
   "outputs": [],
   "source": [
    "predictions=model.predict(x_test)"
   ]
  },
  {
   "cell_type": "code",
   "execution_count": 22,
   "metadata": {
    "ExecuteTime": {
     "end_time": "2020-12-23T11:14:00.600838Z",
     "start_time": "2020-12-23T11:14:00.453721Z"
    }
   },
   "outputs": [
    {
     "data": {
      "image/png": "[encoded data removed]",
      "text/plain": [
       "<Figure size 432x288 with 1 Axes>"
      ]
     },
     "metadata": {
      "needs_background": "light"
     },
     "output_type": "display_data"
    }
   ],
   "source": [
    "plt.scatter(y_test, predictions);"
   ]
  },
  {
   "cell_type": "code",
   "execution_count": 23,
   "metadata": {
    "ExecuteTime": {
     "end_time": "2020-12-23T11:14:00.754459Z",
     "start_time": "2020-12-23T11:14:00.600838Z"
    }
   },
   "outputs": [
    {
     "data": {
      "image/png": "[encoded data removed]",
      "text/plain": [
       "<Figure size 432x288 with 1 Axes>"
      ]
     },
     "metadata": {
      "needs_background": "light"
     },
     "output_type": "display_data"
    }
   ],
   "source": [
    "plt.hist(y_test - predictions);"
   ]
  },
  {
   "cell_type": "code",
   "execution_count": 24,
   "metadata": {
    "ExecuteTime": {
     "end_time": "2020-12-23T11:14:00.770101Z",
     "start_time": "2020-12-23T11:14:00.754459Z"
    }
   },
   "outputs": [],
   "source": [
    "from sklearn import metrics"
   ]
  },
  {
   "cell_type": "code",
   "execution_count": 25,
   "metadata": {
    "ExecuteTime": {
     "end_time": "2020-12-23T11:14:00.801324Z",
     "start_time": "2020-12-23T11:14:00.770101Z"
    }
   },
   "outputs": [
    {
     "data": {
      "text/html": [
       "<div>\n",
       "<style scoped>\n",
       "    .dataframe tbody tr th:only-of-type {\n",
       "        vertical-align: middle;\n",
       "    }\n",
       "\n",
       "    .dataframe tbody tr th {\n",
       "        vertical-align: top;\n",
       "    }\n",
       "\n",
       "    .dataframe thead th {\n",
       "        text-align: right;\n",
       "    }\n",
       "</style>\n",
       "<table border=\"1\" class=\"dataframe\">\n",
       "  <thead>\n",
       "    <tr style=\"text-align: right;\">\n",
       "      <th></th>\n",
       "      <th>speed</th>\n",
       "      <th>power</th>\n",
       "    </tr>\n",
       "  </thead>\n",
       "  <tbody>\n",
       "    <tr>\n",
       "      <th>count</th>\n",
       "      <td>500.000000</td>\n",
       "      <td>500.000000</td>\n",
       "    </tr>\n",
       "    <tr>\n",
       "      <th>mean</th>\n",
       "      <td>12.590398</td>\n",
       "      <td>48.014584</td>\n",
       "    </tr>\n",
       "    <tr>\n",
       "      <th>std</th>\n",
       "      <td>7.224991</td>\n",
       "      <td>41.614572</td>\n",
       "    </tr>\n",
       "    <tr>\n",
       "      <th>min</th>\n",
       "      <td>0.000000</td>\n",
       "      <td>0.000000</td>\n",
       "    </tr>\n",
       "    <tr>\n",
       "      <th>25%</th>\n",
       "      <td>6.324750</td>\n",
       "      <td>5.288000</td>\n",
       "    </tr>\n",
       "    <tr>\n",
       "      <th>50%</th>\n",
       "      <td>12.550500</td>\n",
       "      <td>41.645500</td>\n",
       "    </tr>\n",
       "    <tr>\n",
       "      <th>75%</th>\n",
       "      <td>18.775250</td>\n",
       "      <td>93.537000</td>\n",
       "    </tr>\n",
       "    <tr>\n",
       "      <th>max</th>\n",
       "      <td>25.000000</td>\n",
       "      <td>113.556000</td>\n",
       "    </tr>\n",
       "  </tbody>\n",
       "</table>\n",
       "</div>"
      ],
      "text/plain": [
       "            speed       power\n",
       "count  500.000000  500.000000\n",
       "mean    12.590398   48.014584\n",
       "std      7.224991   41.614572\n",
       "min      0.000000    0.000000\n",
       "25%      6.324750    5.288000\n",
       "50%     12.550500   41.645500\n",
       "75%     18.775250   93.537000\n",
       "max     25.000000  113.556000"
      ]
     },
     "execution_count": 25,
     "metadata": {},
     "output_type": "execute_result"
    }
   ],
   "source": [
    "dataset.describe()"
   ]
  },
  {
   "cell_type": "code",
   "execution_count": 26,
   "metadata": {
    "ExecuteTime": {
     "end_time": "2020-12-23T11:14:01.233532Z",
     "start_time": "2020-12-23T11:14:00.801324Z"
    }
   },
   "outputs": [
    {
     "data": {
      "image/png": "[encoded data removed]",
      "text/plain": [
       "<Figure size 360x360 with 1 Axes>"
      ]
     },
     "metadata": {
      "needs_background": "light"
     },
     "output_type": "display_data"
    }
   ],
   "source": [
    "sns.lmplot(x=\"speed\", y=\"power\", data=dataset);"
   ]
  },
  {
   "cell_type": "code",
   "execution_count": 27,
   "metadata": {
    "ExecuteTime": {
     "end_time": "2020-12-23T11:14:01.587715Z",
     "start_time": "2020-12-23T11:14:01.233532Z"
    }
   },
   "outputs": [
    {
     "data": {
      "image/png": "[encoded data removed]",
      "text/plain": [
       "<Figure size 432x288 with 1 Axes>"
      ]
     },
     "metadata": {
      "needs_background": "light"
     },
     "output_type": "display_data"
    }
   ],
   "source": [
    "dataset.plot(x ='speed', y='power', style=('o'), markersize=1.5)\n",
    "plt.title('Wind speed vs Power output')\n",
    "plt.xlabel('Wind speed')\n",
    "plt.ylabel('Power output')\n",
    "plt.grid(b=True, which='major', color='#666666', linestyle='-')\n",
    "plt.minorticks_on()\n",
    "plt.grid(b=True, which='minor', color='#999999', linestyle='-', alpha=0.2)\n",
    "plt.show()"
   ]
  },
  {
   "cell_type": "code",
   "execution_count": 28,
   "metadata": {
    "ExecuteTime": {
     "end_time": "2020-12-23T11:14:02.135813Z",
     "start_time": "2020-12-23T11:14:01.587715Z"
    }
   },
   "outputs": [
    {
     "ename": "NameError",
     "evalue": "name 'plot' is not defined",
     "output_type": "error",
     "traceback": [
      "\u001b[1;31m---------------------------------------------------------------------------\u001b[0m",
      "\u001b[1;31mNameError\u001b[0m                                 Traceback (most recent call last)",
      "\u001b[1;32m<ipython-input-28-78805b447536>\u001b[0m in \u001b[0;36m<module>\u001b[1;34m\u001b[0m\n\u001b[1;32m----> 1\u001b[1;33m \u001b[0mplot\u001b[0m\u001b[1;33m(\u001b[0m\u001b[0mx\u001b[0m \u001b[1;33m=\u001b[0m\u001b[1;34m'speed'\u001b[0m\u001b[1;33m,\u001b[0m \u001b[0mstyle\u001b[0m\u001b[1;33m=\u001b[0m\u001b[1;33m(\u001b[0m\u001b[1;34m'o'\u001b[0m\u001b[1;33m)\u001b[0m\u001b[1;33m,\u001b[0m \u001b[0mmarkersize\u001b[0m\u001b[1;33m=\u001b[0m\u001b[1;36m1.5\u001b[0m\u001b[1;33m)\u001b[0m\u001b[1;33m\u001b[0m\u001b[1;33m\u001b[0m\u001b[0m\n\u001b[0m\u001b[0;32m      2\u001b[0m \u001b[0mplt\u001b[0m\u001b[1;33m.\u001b[0m\u001b[0mtitle\u001b[0m\u001b[1;33m(\u001b[0m\u001b[1;34m'Wind speed vs Power output'\u001b[0m\u001b[1;33m)\u001b[0m\u001b[1;33m\u001b[0m\u001b[1;33m\u001b[0m\u001b[0m\n\u001b[0;32m      3\u001b[0m \u001b[0mplt\u001b[0m\u001b[1;33m.\u001b[0m\u001b[0mxlabel\u001b[0m\u001b[1;33m(\u001b[0m\u001b[1;34m'Wind speed'\u001b[0m\u001b[1;33m)\u001b[0m\u001b[1;33m\u001b[0m\u001b[1;33m\u001b[0m\u001b[0m\n\u001b[0;32m      4\u001b[0m \u001b[1;31m#plt.ylabel('Power output')\u001b[0m\u001b[1;33m\u001b[0m\u001b[1;33m\u001b[0m\u001b[1;33m\u001b[0m\u001b[0m\n\u001b[0;32m      5\u001b[0m \u001b[0mplt\u001b[0m\u001b[1;33m.\u001b[0m\u001b[0mgrid\u001b[0m\u001b[1;33m(\u001b[0m\u001b[0mb\u001b[0m\u001b[1;33m=\u001b[0m\u001b[1;32mTrue\u001b[0m\u001b[1;33m,\u001b[0m \u001b[0mwhich\u001b[0m\u001b[1;33m=\u001b[0m\u001b[1;34m'major'\u001b[0m\u001b[1;33m,\u001b[0m \u001b[0mcolor\u001b[0m\u001b[1;33m=\u001b[0m\u001b[1;34m'#666666'\u001b[0m\u001b[1;33m,\u001b[0m \u001b[0mlinestyle\u001b[0m\u001b[1;33m=\u001b[0m\u001b[1;34m'-'\u001b[0m\u001b[1;33m)\u001b[0m\u001b[1;33m\u001b[0m\u001b[1;33m\u001b[0m\u001b[0m\n",
      "\u001b[1;31mNameError\u001b[0m: name 'plot' is not defined"
     ]
    }
   ],
   "source": [
    "plot(x ='speed', style=('o'), markersize=1.5)\n",
    "plt.title('Wind speed vs Power output')\n",
    "plt.xlabel('Wind speed')\n",
    "#plt.ylabel('Power output')\n",
    "plt.grid(b=True, which='major', color='#666666', linestyle='-')\n",
    "plt.minorticks_on()\n",
    "plt.grid(b=True, which='minor', color='#999999', linestyle='-', alpha=0.2)\n",
    "plt.show()"
   ]
  },
  {
   "cell_type": "markdown",
   "metadata": {},
   "source": [
    "#### Preparing the data"
   ]
  },
  {
   "cell_type": "code",
   "execution_count": null,
   "metadata": {
    "ExecuteTime": {
     "end_time": "2020-12-23T11:14:02.135813Z",
     "start_time": "2020-12-23T11:13:57.481Z"
    }
   },
   "outputs": [],
   "source": [
    "x = dataset.iloc[:, :-1].values\n",
    "y = dataset.iloc[:, 1].values"
   ]
  },
  {
   "cell_type": "code",
   "execution_count": null,
   "metadata": {
    "ExecuteTime": {
     "end_time": "2020-12-23T11:14:02.135813Z",
     "start_time": "2020-12-23T11:13:57.484Z"
    }
   },
   "outputs": [],
   "source": [
    "from sklearn.model_selection import train_test_split\n",
    "x_train, x_test, y_train, y_test = train_test_split(x, y, test_size=0.2, random_state=0)"
   ]
  },
  {
   "cell_type": "markdown",
   "metadata": {},
   "source": [
    "#### Training the algorithm"
   ]
  },
  {
   "cell_type": "code",
   "execution_count": null,
   "metadata": {
    "ExecuteTime": {
     "end_time": "2020-12-23T11:14:02.135813Z",
     "start_time": "2020-12-23T11:13:57.489Z"
    }
   },
   "outputs": [],
   "source": [
    "from sklearn.linear_model import LinearRegression\n",
    "regressor = LinearRegression()\n",
    "regressor.fit(x_train, y_train)\n",
    "print(regressor.intercept_)"
   ]
  },
  {
   "cell_type": "code",
   "execution_count": null,
   "metadata": {
    "ExecuteTime": {
     "end_time": "2020-12-23T11:14:02.142321Z",
     "start_time": "2020-12-23T11:13:57.492Z"
    }
   },
   "outputs": [],
   "source": [
    "print(regressor.coef_)"
   ]
  },
  {
   "cell_type": "markdown",
   "metadata": {},
   "source": [
    "#### Making predictions"
   ]
  },
  {
   "cell_type": "code",
   "execution_count": null,
   "metadata": {
    "ExecuteTime": {
     "end_time": "2020-12-23T11:14:02.142321Z",
     "start_time": "2020-12-23T11:13:57.498Z"
    }
   },
   "outputs": [],
   "source": [
    "y_pred = regressor.predict(x_test)"
   ]
  },
  {
   "cell_type": "code",
   "execution_count": null,
   "metadata": {
    "ExecuteTime": {
     "end_time": "2020-12-23T11:14:02.142321Z",
     "start_time": "2020-12-23T11:13:57.502Z"
    }
   },
   "outputs": [],
   "source": [
    "df = pd.DataFrame({'Actual': y_test, 'Predicted': y_pred})\n",
    "df"
   ]
  },
  {
   "cell_type": "code",
   "execution_count": null,
   "metadata": {
    "ExecuteTime": {
     "end_time": "2020-12-23T11:14:02.142321Z",
     "start_time": "2020-12-23T11:13:57.504Z"
    }
   },
   "outputs": [],
   "source": [
    "plt.scatter(x_test, y_test, color='grey')\n",
    "plt.plot(x_test, y_pred, color='red', linewidth=2)\n",
    "plt.show()"
   ]
  },
  {
   "cell_type": "code",
   "execution_count": null,
   "metadata": {
    "ExecuteTime": {
     "end_time": "2020-12-23T11:14:02.142321Z",
     "start_time": "2020-12-23T11:13:57.507Z"
    }
   },
   "outputs": [],
   "source": [
    "df.plot(x='Actual', y='Predicted', style='o');"
   ]
  },
  {
   "cell_type": "markdown",
   "metadata": {},
   "source": [
    "#### Evaluating the algorithm"
   ]
  },
  {
   "cell_type": "code",
   "execution_count": null,
   "metadata": {
    "ExecuteTime": {
     "end_time": "2020-12-23T11:14:02.142321Z",
     "start_time": "2020-12-23T11:13:57.512Z"
    }
   },
   "outputs": [],
   "source": [
    "from sklearn import metrics\n",
    "print('Mean Absolute Error:', metrics.mean_absolute_error(y_test, y_pred))\n",
    "print('Mean Squared Error:', metrics.mean_squared_error(y_test, y_pred))\n",
    "print('Root Mean Squared Error:',np.sqrt(metrics.mean_squared_error(y_test, y_pred)))"
   ]
  },
  {
   "cell_type": "markdown",
   "metadata": {},
   "source": [
    "## Bibliography"
   ]
  },
  {
   "cell_type": "markdown",
   "metadata": {},
   "source": [
    "[1] Clifton, A., Kilcher, L., Lundquist, J. and Fleming, P., 2013. *Using Machine Learning To Predict Wind Turbine Power Output*. [online] ResearchGate. Available at: <https://www.researchgate.net/publication/257748412_Using_machine_learning_to_predict_wind_turbine_power_output> [Accessed 20 October 2020]."
   ]
  },
  {
   "cell_type": "markdown",
   "metadata": {},
   "source": [
    "[2] Epaper.dk. 2020. *IEA Wind TCP - Annual Report 2019.* [online] Available at: <https://www.epaper.dk/steppaper/iea/iea-wind-a-rsrapport-2019/> [Accessed 18 October 2020]."
   ]
  },
  {
   "cell_type": "markdown",
   "metadata": {},
   "source": [
    "[3] Miller, W., 2014. *Predicting Wind Power With Greater Accuracy.* [online] Str.llnl.gov. Available at: <https://str.llnl.gov/april-2014/miller> [Accessed 18 October 2020]."
   ]
  },
  {
   "cell_type": "markdown",
   "metadata": {},
   "source": [
    "[4] Windeurope.org. 2020. *Wind Energy In Europe In 2019.* [online] Available at: <https://windeurope.org/wp-content/uploads/files/about-wind/statistics/WindEurope-Annual-Statistics-2019.pdf> [Accessed 19 October 2020]."
   ]
  },
  {
   "cell_type": "markdown",
   "metadata": {},
   "source": [
    "[5] SEAI. 2011. *Wind Energy Roadmap 2011-2050.* [online] Available at: <https://www.seai.ie/publications/Wind_Energy_Roadmap_2011-2050.pdf> [Accessed 18 October 2020]."
   ]
  },
  {
   "cell_type": "markdown",
   "metadata": {},
   "source": [
    "[6] Sølverød, F., 2017. *Machine Learning For Wind Energy Prediction - Possible Improvements Over Traditional Methods.* [online] Duo.uio.no. Available at: <https://www.duo.uio.no/bitstream/handle/10852/57735/Master_Thesis_Finn_Erik_20170525_FINAL.pdf?sequence=7&isAllowed=y> [Accessed 19 October 2020]."
   ]
  },
  {
   "cell_type": "markdown",
   "metadata": {},
   "source": [
    "[7] Wang, X., Guo, P. and Huang, X., 2011. *A Review Of Wind Power Forecasting Models.* [online] Elsevier. Available at: <https://www.sciencedirect.com/science/article/pii/S1876610211019291> [Accessed 20 October 2020]."
   ]
  },
  {
   "cell_type": "markdown",
   "metadata": {},
   "source": [
    "[8] Evans, R., 2019. *Simple Linear Regression - An Easy Introduction & Examples.* [online] Scribbr. Available at: <https://www.scribbr.com/statistics/simple-linear-regression/> [Accessed 20 October 2020]."
   ]
  },
  {
   "cell_type": "markdown",
   "metadata": {},
   "source": [
    "[9] Khamushkin, I., 2017. *Calculating Energy Production From Weather Forecast In Python.* [online] Medium. Available at: <https://medium.com/planet-os/calculating-energy-production-from-weather-forecast-in-python-3c990047daa> [Accessed 20 October 2020]."
   ]
  },
  {
   "cell_type": "markdown",
   "metadata": {},
   "source": [
    "[10] Wadhvani, R., Shukla, S., Gyanchandani, M. and Rasool, A., 2017. *Analysis Of Statistical Techniques To Estimate Wind Turbine Power Generation.* [online] Paper.ijcsns.org. Available at: <http://paper.ijcsns.org/07_book/201702/20170232.pdf> [Accessed 21 October 2020]."
   ]
  },
  {
   "cell_type": "markdown",
   "metadata": {},
   "source": [
    "[11] Kealy, T., Barrett, M. and Kearney, D., 2015. *How Profitable Are Wind Turbine Projects? An Empirical Analysis Of A 3.5 MW Wind Farm In Ireland Of A 3.5 MW Wind Farm In Ireland.* [online] Arrow.tudublin.ie. Available at: <https://arrow.tudublin.ie/cgi/viewcontent.cgi?article=1101&context=engscheleart2> [Accessed 21 October 2020]."
   ]
  },
  {
   "cell_type": "markdown",
   "metadata": {},
   "source": [
    "[12] Katabathun, N., Gundabathina, S. and Gummadi, D., 2020. *Prediciting Power Output Based On Weather Condition On Wind Turbines.* [online] Junikhyat.com. Available at: <http://www.junikhyat.com/no_14_may_20/33.pdf?i=1> [Accessed 21 October 2020]."
   ]
  },
  {
   "cell_type": "markdown",
   "metadata": {},
   "source": [
    "[13] Mester, T., 2018. *Pandas Tutorial 1: Pandas Basics (Read_Csv, Dataframe, Data Selection, Etc.).* [online] Data36. Available at: <https://data36.com/pandas-tutorial-1-basics-reading-data-files-dataframes-data-selection/> [Accessed 21 October 2020]."
   ]
  },
  {
   "cell_type": "markdown",
   "metadata": {},
   "source": [
    "[14] Klare, M., Dongre, S., James, M. and James, M., 2020. *Energy Wars: How Oil And Gas Are Fuelling Global Conflicts*. [online] Energy Post. Available at: <https://energypost.eu/twenty-first-century-energy-wars-oil-gas-fuelling-global-conflicts/> [Accessed 24 October 2020]."
   ]
  },
  {
   "cell_type": "markdown",
   "metadata": {},
   "source": [
    "[15] Robinson, S., 2020. *Linear Regression In Python With Scikit-Learn*. [online] Stack Abuse. Available at: <https://stackabuse.com/linear-regression-in-python-with-scikit-learn/> [Accessed 21 October 2020]."
   ]
  },
  {
   "cell_type": "markdown",
   "metadata": {},
   "source": [
    "[16] Nelson, V. and Starcher, K., 2019. *How To Select A Location For A Wind Farm*. [online] Routledge.com. Available at: <https://www.routledge.com/blog/article/how-to-select-a-location-for-a-wind farm? [Accessed 19 October 2020]."
   ]
  },
  {
   "cell_type": "markdown",
   "metadata": {},
   "source": [
    "[17] Lane, C., 2020. *Wind Energy Pros And Cons.* [online] Solar Reviews. Available at: <https://www.solarreviews.com/blog/wind-energy-pros-and-cons> [Accessed 25 October 2020]."
   ]
  },
  {
   "cell_type": "markdown",
   "metadata": {},
   "source": [
    "[18] Stojiljković, M., 2020. *Linear Regression In Python.* [online] Realpython.com. Available at: <https://realpython.com/linear-regression-in-python/> [Accessed 21 October 2020]."
   ]
  },
  {
   "cell_type": "markdown",
   "metadata": {},
   "source": [
    "[19] Chauhan, N., 2020. *A Beginner’S Guide To Linear Regression In Python With Scikit-Learn.* [online] KDnuggets. Available at: <https://www.kdnuggets.com/2019/03/beginners-guide-linear-regression-python-scikit-learn.html> [Accessed 20 October 2020]."
   ]
  },
  {
   "cell_type": "markdown",
   "metadata": {},
   "source": [
    "[20] Just into Data. 2020. *Linear Regression In Machine Learning: Practical Python Tutorial*. [online] Available at: <https://www.justintodata.com/linear-regression-machine-learning-python-tutorial/> [Accessed 26 October 2020]."
   ]
  },
  {
   "cell_type": "markdown",
   "metadata": {},
   "source": [
    "[21] Statology. 2020. *How To Create A Scatterplot With A Regression Line In Python*. [online] Available at: <https://www.statology.org/scatterplot-with-regression-line-python/> [Accessed 26 October 2020]."
   ]
  },
  {
   "cell_type": "markdown",
   "metadata": {},
   "source": [
    "[22] Statology. 2020. *A Complete Guide To Linear Regression In Python*. [online] Available at: <https://www.statology.org/linear-regression-python/> [Accessed 26 October 2020]."
   ]
  },
  {
   "cell_type": "markdown",
   "metadata": {},
   "source": [
    "[23] McCullum, N., 2020. *Linear Regression In Python - A Step-By-Step Guide*. [online] Nickmccullum.com. Available at: <https://nickmccullum.com/python-machine-learning/linear-regression-python/> [Accessed 26 October 2020]."
   ]
  },
  {
   "cell_type": "markdown",
   "metadata": {},
   "source": [
    "[24] Enerpower. 2020. *Wind Turbine F.A.Q*. [online] Available at: <https://enerpower.ie/portfolio/wind-turbine-faq-ireland/> [Accessed 27 October 2020]."
   ]
  }
 ],
 "metadata": {
  "cite2c": {
   "citations": {
    "8311927/2VLQQBQ2": {
     "author": [
      {
       "family": "Miller",
       "given": "Wayne"
      }
     ],
     "container-title": "Science & Technology Review",
     "id": "8311927/2VLQQBQ2",
     "issued": {
      "year": 2014
     },
     "language": "en",
     "page": "9",
     "page-first": "9",
     "title": "Predicting Wind Power \t\twith Greater Accuracy",
     "type": "article-journal"
    },
    "8311927/BP5UJRXL": {
     "DOI": "10.1109/TSTE.2014.2345059",
     "abstract": "Wind turbine power curve modeling is an important tool in turbine performance monitoring and power forecasting. There are several statistical techniques to fit the empirical power curve of a wind turbine, which can be classified into parametric and nonparametric methods. In this paper, we study four of these methods to estimate the wind turbine power curve. Polynomial regression is studied as the benchmark parametric model, and issues associated with this technique are discussed. We then introduce the locally weighted polynomial regression method, and show its advantages over the polynomial regression. Also, the spline regression method is examined to achieve more flexibility for fitting the power curve. Finally, we develop a penalized spline regression model to address the issues of choosing the number and location of knots in the spline regression. The performance of the presented methods is evaluated using two simulated data sets as well as an actual operational power data of a wind farm in North America.",
     "author": [
      {
       "family": "Shokrzadeh",
       "given": "S."
      },
      {
       "family": "Jozani",
       "given": "M. Jafari"
      },
      {
       "family": "Bibeau",
       "given": "E."
      }
     ],
     "container-title": "IEEE Transactions on Sustainable Energy",
     "id": "8311927/BP5UJRXL",
     "issue": "4",
     "issued": {
      "month": 10,
      "year": 2014
     },
     "note": "Conference Name: IEEE Transactions on Sustainable Energy",
     "page": "1262-1269",
     "page-first": "1262",
     "title": "Wind Turbine Power Curve Modeling Using Advanced Parametric and Nonparametric Methods",
     "type": "article-journal",
     "volume": "5"
    },
    "8311927/FLVWTRF3": {
     "URL": "https://arrow.tudublin.ie/cgi/viewcontent.cgi?article=1101&context=engscheleart2",
     "accessed": {
      "day": 24,
      "month": 10,
      "year": 2020
     },
     "id": "8311927/FLVWTRF3",
     "title": "Kealy - 2015 - How Profitable are Wind Turbine Projects An Empir.pdf",
     "type": "article"
    },
    "8311927/GH6RYWZH": {
     "abstract": "Accurate modeling of any system requires appropriate knowledge of all the factors affecting performance of the system. This paper provides the detail of the machine and site specific factors affecting the performance of the wind turbine power production. Various mathematical models have been compared, which were previously applied for power prediction of wind turbine. The recent developments in power prediction of wind turbine relied on power curve modeling technique. The wind turbine power curve shows the relationship between wind speed and power generated. The main objective of this paper is analysis of regression based statistical techniques for power prediction. In each technique, the power curves have been derived using the SCADA data obtained from resource file of NREL HOMER software.",
     "author": [
      {
       "family": "Wadhvani",
       "given": "Rajesh"
      },
      {
       "family": "Shukla",
       "given": "Sanyam"
      },
      {
       "family": "Gyanchandani",
       "given": "Manasi"
      },
      {
       "family": "Rasool",
       "given": "Akhtar"
      }
     ],
     "container-title": "International Journal of Computer Science and Network Security",
     "id": "8311927/GH6RYWZH",
     "issued": {
      "year": 2017
     },
     "language": "en",
     "page": "5",
     "page-first": "5",
     "title": "Analysis of Statistical Techniques to Estimate Wind Turbine Power Generation",
     "type": "article-journal"
    },
    "8311927/K3G6P797": {
     "DOI": "10.21427/D7KP71",
     "URL": "http://arrow.dit.ie/engscheleart2/86/",
     "abstract": "With many electricity markets worldwide deregulated or in the process of deregulation, the opportunity for smaller independent generators to provide power to their local power system has increased. For smaller independent wind developers assessing the feasibility of a large scale wind farm project is vitally important due to significant risk associated with the investment. This paper presents a longitudinal case study of a 3.5 MW wind farm situated in the North East of Ireland utilising multiple sources of empirical data obtained over a three year period following commissioning. The findings suggest that an average yearly capacity factor of 34% was recorded from the turbines providing for a simple payback period of 6.7 years. It would appear from this case study that site selection, electricity market conditions, the quality of the control system and the competencies of the design/installation/commissioning company all contributed to the satisfactory results.",
     "accessed": {
      "day": 24,
      "month": 10,
      "year": 2020
     },
     "author": [
      {
       "family": "Kealy",
       "given": "Tony"
      }
     ],
     "id": "8311927/K3G6P797",
     "issued": {
      "year": 2015
     },
     "language": "en",
     "note": "Publisher: Dublin Institute of Technology",
     "shortTitle": "How Profitable are Wind Turbine Projects?",
     "title": "How Profitable are Wind Turbine Projects? An Empirical Analysis of a 3.5 MW Wind Farm In Ireland.",
     "title-short": "How Profitable are Wind Turbine Projects?",
     "type": "article-journal"
    },
    "8311927/M6MB7T4P": {
     "URL": "https://www.seai.ie/publications/Wind_Energy_Roadmap_2011-2050.pdf",
     "accessed": {
      "day": 24,
      "month": 10,
      "year": 2020
     },
     "id": "8311927/M6MB7T4P",
     "title": "Wind_Energy_Roadmap_2011-2050.pdf",
     "type": "article"
    }
   }
  },
  "kernelspec": {
   "display_name": "Python 3",
   "language": "python",
   "name": "python3"
  },
  "language_info": {
   "codemirror_mode": {
    "name": "ipython",
    "version": 3
   },
   "file_extension": ".py",
   "mimetype": "text/x-python",
   "name": "python",
   "nbconvert_exporter": "python",
   "pygments_lexer": "ipython3",
   "version": "3.8.3"
  },
  "toc": {
   "base_numbering": 1,
   "nav_menu": {},
   "number_sections": false,
   "sideBar": true,
   "skip_h1_title": false,
   "title_cell": "Table of Contents",
   "title_sidebar": "Contents",
   "toc_cell": false,
   "toc_position": {},
   "toc_section_display": true,
   "toc_window_display": false
  }
 },
 "nbformat": 4,
 "nbformat_minor": 4
}
