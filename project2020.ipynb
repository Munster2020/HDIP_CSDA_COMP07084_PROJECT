{
 "cells": [
  {
   "cell_type": "markdown",
   "metadata": {},
   "source": [
    "![](GMIT_Logo.jpg)\n",
    "\n",
    "# Higher Diploma in Science in Computing (Data Analytics)\n",
    "#### Programme Module: Fundamentals of Data Analysis (COMP07084) \n",
    "---\n",
    "## Project 2020\n",
    "\n",
    "In this project you must perform and explain simple linear regression using Python on the `powerproduction` dataset available on Moodle. \n",
    "\n",
    "The goal is to accurately predict wind turbine `power` output from wind `speed` values using the data set as a basis.\n",
    "Your submission must be in the form of a git repository containing, at a minimum, the following items:\n",
    "\n",
    "1. Jupyter notebook that performs simple linear regression on the data set.\n",
    "2. In that notebook, an explanation of your regression and an analysis of its accuracy.\n",
    "3. Standard items in a git repository such as a README.\n",
    "\n",
    "To enhance your submission, you might consider comparing simple linear regression to other types of regression on this data set. Rest assured, all the above concepts will be explored in lecture videos and other materials in the coming semester.\n",
    "\n",
    "---"
   ]
  },
  {
   "cell_type": "markdown",
   "metadata": {},
   "source": [
    "![](Banner.jpg)"
   ]
  },
  {
   "cell_type": "markdown",
   "metadata": {},
   "source": [
    "## Wind Energy\n",
    "---\n",
    "### Introduction\n",
    "Energy demand across the world is increasing rapidly because of population and economic growth especially in emerging market economies. This has meant the search for new energy resources has intensified across the globe. The supply of energy is a key element in a countries social and economic development so much so that it can impact international relations. Conflicts in Iraq/Syria, South Sudan, the Crimea/Ukraine, and the South China Sea show the desire to control valuable oil and gas assets is fuelling long-standing historic tensions. Michael Klare argues that *“in a fossil-fuel world, control over oil and gas reserves is an essential component of national power”*. (Klare, 2014)\n",
    "\n",
    "These factors combined with the impact of climate change mean the world will increasingly use renewable energy instead of fossil fuels in order to meet energy demand. Wind energy is seen as a positive alternative to fossil fuels but as with all renewables it has advantages as well as disadvantges. Although the manufacturer and installation of wind turbines does involve the release of some pollution into the environment, in the long run it is a source of clean energy and does not emit any greenhouse gases. It is renewable, space efficient, low cost and promotes job creation. However, it does have disadvantages, including its intermittent and unpredictable nature, noise issues, wildlife habitat dislocation as well as impacting tourism with some considering it an eye sore. It also faces location limitation issues, *“because to be economically viable, they need to be installed in a place where they will produce enough electricity, which means coastal areas, the tops of hills, and open planes - essentially anywhere with strong, reliable wind.  Most of these suitable places tend to be in remote areas far outside of cities and towns, in more rural areas or offshore. Because of this distance, new infrastructure, such as power lines, have to be built in order to connect a wind farm to the power grid”*. (Lane, 2020)\n",
    "\n",
    "### Facts and figures\n",
    "In 2019 global direct primary energy consumption stood at 158,839 TWh with renewable energy sources (RES) accounting for 19,219 TWh or 12.1% of this figure. Within (RES) wind energy contributed 6.6%  or 1,270 TWh of all renewables. In 2019 Europe had 205 GW of wind energy capacity accounting for 15% of the EU-28 consumed electricity. An additional 15.4 GW of new wind power capacity was added in 2019 an increase of 27% on the previous year. \n",
    "\n",
    "Within Europe ten member states are achieving wind power shares above 10%. *“The highest share, and a new record, was set by Denmark where 47% of the electricity demand in 2019 was met by wind energy, followed by Ireland at 32% and Portugal at 27%”* (Windeurope.org, 2020).\n",
    "\n",
    "In Ireland wind energy is the largest contributing resource of renewable power. According to the Sustainable Energy Authority of  Ireland (SEAI) in their Wind Energy Roadmap, *“wind energy has the potential to generate enough electricity to exceed domestic demand by 2030 and for its wind market to become export driven in the 2020-2030 timeframe”* (SEAI, 2011). This could generate €15 billion in economic value and lead to the creation of 20,000 jobs in the installation, operation and maintenance of wind farms. It would also present a large carbon abatement in the range of 400 to 450 metric tonnes of CO2 by 2050.\n",
    "\n",
    "In order to achieve these ambitious goals significant investment is required and it is estimated that the wind industry would hit a peak annual investment of between €6 billion and €12 billion by 2040 (SEAI, 2011). Caution should be applied however when assessing investment in wind energy. One report has identified a payback period of 23 years for an investment in a wind energy project, which would be a disappointing timeframe for investors. However, this does not have to be the case if a significant feasibility assessment is carried out.\n",
    "\n",
    "According to a study carried out by TUD, if due consideration is given to *“site selection, electricity market conditions, the quality of the control system and the competencies of the design/installation/commissioning company”* (Kealy, 2015) there should be a positive outcome for investors, consumers and the environment. Their study based on a wind farm in the North East of Ireland were an average capacity factor of 34% was returned from the wind farm’s turbines a payback period of 6.7 years was set. Because of the intermittent nature of wind, turbines typically produce only 20% - 40% of their maximum possible output over the course of a year which is known as the capacity factor (Miller, 2014).\n",
    "\n",
    "### Location\n",
    "The crucial factor in the location of wind farms is calculating the annual energy production and how the energy it produces compares to alternative sources of energy. Key to this is access to and modelling of long-term data. Data should be collected from a potential site over a two to three-year timeframe. From this data the long-term annual variability needs to be calculated and can the renewable energy production output be predicted/forecast (Nelson, 2019). Modelling solutions at their most basic can be done through physical modelling via computational fluid dynamics or mathematical modelling via regular linear algebra.  \n",
    "\n",
    "Simple mathematical modelling on its own won’t provide the accuracy but will suffice for common use cases like estimating maximum power production. This is the case with wind turbine manufacturers using power curve modelling techniques. The wind turbine power curve shows the relationship between wind speed and power generated *“for different wind speeds. A typical wind turbine power curve has three main characteristic speeds: 1) cut-in (Vc ); 2) rated (Vr ); and 3) cut-out (Vs) speeds. The turbine starts generating power when the wind speed reaches the cut-in value. The rated speed is the wind speed at which the generator is producing the machine’s rated power. When the wind speed reaches the cut-out speed, the power generation is shut down to prevent defects and damages”* (Wadhvani, 2017).\n",
    "\n",
    "Power curves can oversimplify reality though and can err by plus or minus 20% the actual power output. In actuality additional variables must be factored in (Miller, 2014). For example, *“wind speed at heights below and above the hub, wind shear, and turbulence are also strong predictors of power production”*. Any model used in predicting power output from wind turbines must also quantify uncertainty or confidence level associated with them. *“Such confidence levels are particularly of value to electric grid operators, who need both the predictions of output and the associated levels of confidence to determine an optimal schedule for turning various sources of power on and off. Quantifying output uncertainty is also crucial for siting wind farms”*(Miller, 2014). Outliers also need to be considered in any model, wind ramps being one of the most important. Because power output is proportional to the cube of the wind speed a wind ramp can result in a dramatic change in power production.  *“Consequently, accurate wind ramp prediction is extremely important, leading some experts to refer to it as “the Holy Grail of wind forecasting.”(Miller, 2014)*\n",
    "\n",
    "\n"
   ]
  },
  {
   "cell_type": "markdown",
   "metadata": {},
   "source": [
    "#### Importing libraries "
   ]
  },
  {
   "cell_type": "code",
   "execution_count": 1,
   "metadata": {},
   "outputs": [],
   "source": [
    "import numpy as np\n",
    "import pandas as pd\n",
    "import seaborn as sns\n",
    "import matplotlib.pyplot as plt\n",
    "%matplotlib inline"
   ]
  },
  {
   "cell_type": "markdown",
   "metadata": {},
   "source": [
    "#### Dataset"
   ]
  },
  {
   "cell_type": "code",
   "execution_count": 2,
   "metadata": {},
   "outputs": [],
   "source": [
    "dataset = pd.read_csv('powerproduction.csv', delimiter = ',')"
   ]
  },
  {
   "cell_type": "code",
   "execution_count": 3,
   "metadata": {},
   "outputs": [
    {
     "data": {
      "text/plain": [
       "(500, 2)"
      ]
     },
     "execution_count": 3,
     "metadata": {},
     "output_type": "execute_result"
    }
   ],
   "source": [
    "dataset.shape"
   ]
  },
  {
   "cell_type": "code",
   "execution_count": 4,
   "metadata": {},
   "outputs": [
    {
     "data": {
      "text/html": [
       "<div>\n",
       "<style scoped>\n",
       "    .dataframe tbody tr th:only-of-type {\n",
       "        vertical-align: middle;\n",
       "    }\n",
       "\n",
       "    .dataframe tbody tr th {\n",
       "        vertical-align: top;\n",
       "    }\n",
       "\n",
       "    .dataframe thead th {\n",
       "        text-align: right;\n",
       "    }\n",
       "</style>\n",
       "<table border=\"1\" class=\"dataframe\">\n",
       "  <thead>\n",
       "    <tr style=\"text-align: right;\">\n",
       "      <th></th>\n",
       "      <th>speed</th>\n",
       "      <th>power</th>\n",
       "    </tr>\n",
       "  </thead>\n",
       "  <tbody>\n",
       "    <tr>\n",
       "      <th>count</th>\n",
       "      <td>500.000000</td>\n",
       "      <td>500.000000</td>\n",
       "    </tr>\n",
       "    <tr>\n",
       "      <th>mean</th>\n",
       "      <td>12.590398</td>\n",
       "      <td>48.014584</td>\n",
       "    </tr>\n",
       "    <tr>\n",
       "      <th>std</th>\n",
       "      <td>7.224991</td>\n",
       "      <td>41.614572</td>\n",
       "    </tr>\n",
       "    <tr>\n",
       "      <th>min</th>\n",
       "      <td>0.000000</td>\n",
       "      <td>0.000000</td>\n",
       "    </tr>\n",
       "    <tr>\n",
       "      <th>25%</th>\n",
       "      <td>6.324750</td>\n",
       "      <td>5.288000</td>\n",
       "    </tr>\n",
       "    <tr>\n",
       "      <th>50%</th>\n",
       "      <td>12.550500</td>\n",
       "      <td>41.645500</td>\n",
       "    </tr>\n",
       "    <tr>\n",
       "      <th>75%</th>\n",
       "      <td>18.775250</td>\n",
       "      <td>93.537000</td>\n",
       "    </tr>\n",
       "    <tr>\n",
       "      <th>max</th>\n",
       "      <td>25.000000</td>\n",
       "      <td>113.556000</td>\n",
       "    </tr>\n",
       "  </tbody>\n",
       "</table>\n",
       "</div>"
      ],
      "text/plain": [
       "            speed       power\n",
       "count  500.000000  500.000000\n",
       "mean    12.590398   48.014584\n",
       "std      7.224991   41.614572\n",
       "min      0.000000    0.000000\n",
       "25%      6.324750    5.288000\n",
       "50%     12.550500   41.645500\n",
       "75%     18.775250   93.537000\n",
       "max     25.000000  113.556000"
      ]
     },
     "execution_count": 4,
     "metadata": {},
     "output_type": "execute_result"
    }
   ],
   "source": [
    "dataset.describe()"
   ]
  },
  {
   "cell_type": "code",
   "execution_count": 5,
   "metadata": {},
   "outputs": [
    {
     "data": {
      "image/png": "[encoded data removed]",
      "text/plain": [
       "<Figure size 432x288 with 1 Axes>"
      ]
     },
     "metadata": {
      "needs_background": "light"
     },
     "output_type": "display_data"
    }
   ],
   "source": [
    "dataset.plot(x ='speed', y='power', style=('o'), markersize=1.5)\n",
    "plt.title('Wind speed vs Power output')\n",
    "plt.xlabel('Wind speed')\n",
    "plt.ylabel('Power output')\n",
    "plt.grid(b=True, which='major', color='#666666', linestyle='-')\n",
    "plt.minorticks_on()\n",
    "plt.grid(b=True, which='minor', color='#999999', linestyle='-', alpha=0.2)\n",
    "plt.show()"
   ]
  },
  {
   "cell_type": "markdown",
   "metadata": {},
   "source": [
    "#### Preparing the data"
   ]
  },
  {
   "cell_type": "code",
   "execution_count": 6,
   "metadata": {},
   "outputs": [],
   "source": [
    "x = dataset.iloc[:, :-1].values\n",
    "y = dataset.iloc[:, 1].values"
   ]
  },
  {
   "cell_type": "code",
   "execution_count": 7,
   "metadata": {},
   "outputs": [],
   "source": [
    "from sklearn.model_selection import train_test_split\n",
    "x_train, x_test, y_train, y_test = train_test_split(x, y, test_size=0.2, random_state=0)"
   ]
  },
  {
   "cell_type": "markdown",
   "metadata": {},
   "source": [
    "#### Training the algorithm"
   ]
  },
  {
   "cell_type": "code",
   "execution_count": 8,
   "metadata": {},
   "outputs": [
    {
     "name": "stdout",
     "output_type": "stream",
     "text": [
      "-13.603433993820211\n"
     ]
    }
   ],
   "source": [
    "from sklearn.linear_model import LinearRegression\n",
    "regressor = LinearRegression()\n",
    "regressor.fit(x_train, y_train)\n",
    "print(regressor.intercept_)"
   ]
  },
  {
   "cell_type": "code",
   "execution_count": 9,
   "metadata": {},
   "outputs": [
    {
     "name": "stdout",
     "output_type": "stream",
     "text": [
      "[4.89542079]\n"
     ]
    }
   ],
   "source": [
    "print(regressor.coef_)"
   ]
  },
  {
   "cell_type": "markdown",
   "metadata": {},
   "source": [
    "#### Making predictions"
   ]
  },
  {
   "cell_type": "code",
   "execution_count": 10,
   "metadata": {},
   "outputs": [],
   "source": [
    "y_pred = regressor.predict(x_test)"
   ]
  },
  {
   "cell_type": "code",
   "execution_count": 11,
   "metadata": {},
   "outputs": [
    {
     "data": {
      "text/html": [
       "<div>\n",
       "<style scoped>\n",
       "    .dataframe tbody tr th:only-of-type {\n",
       "        vertical-align: middle;\n",
       "    }\n",
       "\n",
       "    .dataframe tbody tr th {\n",
       "        vertical-align: top;\n",
       "    }\n",
       "\n",
       "    .dataframe thead th {\n",
       "        text-align: right;\n",
       "    }\n",
       "</style>\n",
       "<table border=\"1\" class=\"dataframe\">\n",
       "  <thead>\n",
       "    <tr style=\"text-align: right;\">\n",
       "      <th></th>\n",
       "      <th>Actual</th>\n",
       "      <th>Predicted</th>\n",
       "    </tr>\n",
       "  </thead>\n",
       "  <tbody>\n",
       "    <tr>\n",
       "      <th>0</th>\n",
       "      <td>7.060</td>\n",
       "      <td>10.408605</td>\n",
       "    </tr>\n",
       "    <tr>\n",
       "      <th>1</th>\n",
       "      <td>51.149</td>\n",
       "      <td>48.632051</td>\n",
       "    </tr>\n",
       "    <tr>\n",
       "      <th>2</th>\n",
       "      <td>71.763</td>\n",
       "      <td>57.326318</td>\n",
       "    </tr>\n",
       "    <tr>\n",
       "      <th>3</th>\n",
       "      <td>99.357</td>\n",
       "      <td>96.161691</td>\n",
       "    </tr>\n",
       "    <tr>\n",
       "      <th>4</th>\n",
       "      <td>113.556</td>\n",
       "      <td>100.327694</td>\n",
       "    </tr>\n",
       "    <tr>\n",
       "      <th>...</th>\n",
       "      <td>...</td>\n",
       "      <td>...</td>\n",
       "    </tr>\n",
       "    <tr>\n",
       "      <th>95</th>\n",
       "      <td>96.058</td>\n",
       "      <td>77.911562</td>\n",
       "    </tr>\n",
       "    <tr>\n",
       "      <th>96</th>\n",
       "      <td>3.578</td>\n",
       "      <td>1.097515</td>\n",
       "    </tr>\n",
       "    <tr>\n",
       "      <th>97</th>\n",
       "      <td>93.931</td>\n",
       "      <td>95.304992</td>\n",
       "    </tr>\n",
       "    <tr>\n",
       "      <th>98</th>\n",
       "      <td>0.000</td>\n",
       "      <td>1.709442</td>\n",
       "    </tr>\n",
       "    <tr>\n",
       "      <th>99</th>\n",
       "      <td>0.000</td>\n",
       "      <td>37.852334</td>\n",
       "    </tr>\n",
       "  </tbody>\n",
       "</table>\n",
       "<p>100 rows × 2 columns</p>\n",
       "</div>"
      ],
      "text/plain": [
       "     Actual   Predicted\n",
       "0     7.060   10.408605\n",
       "1    51.149   48.632051\n",
       "2    71.763   57.326318\n",
       "3    99.357   96.161691\n",
       "4   113.556  100.327694\n",
       "..      ...         ...\n",
       "95   96.058   77.911562\n",
       "96    3.578    1.097515\n",
       "97   93.931   95.304992\n",
       "98    0.000    1.709442\n",
       "99    0.000   37.852334\n",
       "\n",
       "[100 rows x 2 columns]"
      ]
     },
     "execution_count": 11,
     "metadata": {},
     "output_type": "execute_result"
    }
   ],
   "source": [
    "df = pd.DataFrame({'Actual': y_test, 'Predicted': y_pred})\n",
    "df"
   ]
  },
  {
   "cell_type": "code",
   "execution_count": 12,
   "metadata": {},
   "outputs": [
    {
     "data": {
      "image/png": "[encoded data removed]",
      "text/plain": [
       "<Figure size 432x288 with 1 Axes>"
      ]
     },
     "metadata": {
      "needs_background": "light"
     },
     "output_type": "display_data"
    }
   ],
   "source": [
    "plt.scatter(x_test, y_test, color='grey')\n",
    "plt.plot(x_test, y_pred, color='red', linewidth=2)\n",
    "plt.show()"
   ]
  },
  {
   "cell_type": "code",
   "execution_count": 13,
   "metadata": {},
   "outputs": [
    {
     "data": {
      "image/png": "[encoded data removed]",
      "text/plain": [
       "<Figure size 432x288 with 1 Axes>"
      ]
     },
     "metadata": {
      "needs_background": "light"
     },
     "output_type": "display_data"
    }
   ],
   "source": [
    "df.plot(x='Actual', y='Predicted', style='o');"
   ]
  },
  {
   "cell_type": "markdown",
   "metadata": {},
   "source": [
    "#### Evaluating the algorithm"
   ]
  },
  {
   "cell_type": "code",
   "execution_count": 14,
   "metadata": {},
   "outputs": [
    {
     "name": "stdout",
     "output_type": "stream",
     "text": [
      "Mean Absolute Error: 15.371033053882327\n",
      "Mean Squared Error: 496.3930965626669\n",
      "Root Mean Squared Error: 22.279880981788637\n"
     ]
    }
   ],
   "source": [
    "from sklearn import metrics\n",
    "print('Mean Absolute Error:', metrics.mean_absolute_error(y_test, y_pred))\n",
    "print('Mean Squared Error:', metrics.mean_squared_error(y_test, y_pred))\n",
    "print('Root Mean Squared Error:',np.sqrt(metrics.mean_squared_error(y_test, y_pred)))"
   ]
  },
  {
   "cell_type": "markdown",
   "metadata": {},
   "source": [
    "## Bibliography"
   ]
  },
  {
   "cell_type": "markdown",
   "metadata": {},
   "source": [
    "[1] Clifton, A., Kilcher, L., Lundquist, J. and Fleming, P., 2013. *Using Machine Learning To Predict Wind Turbine Power Output*. [online] ResearchGate. Available at: <https://www.researchgate.net/publication/257748412_Using_machine_learning_to_predict_wind_turbine_power_output> [Accessed 20 October 2020]."
   ]
  },
  {
   "cell_type": "markdown",
   "metadata": {},
   "source": [
    "[2] Epaper.dk. 2020. *IEA Wind TCP - Annual Report 2019.* [online] Available at: <https://www.epaper.dk/steppaper/iea/iea-wind-a-rsrapport-2019/> [Accessed 18 October 2020]."
   ]
  },
  {
   "cell_type": "markdown",
   "metadata": {},
   "source": [
    "[3] Miller, W., 2014. *Predicting Wind Power With Greater Accuracy.* [online] Str.llnl.gov. Available at: <https://str.llnl.gov/april-2014/miller> [Accessed 18 October 2020]."
   ]
  },
  {
   "cell_type": "markdown",
   "metadata": {},
   "source": [
    "[4] Windeurope.org. 2020. *Wind Energy In Europe In 2019.* [online] Available at: <https://windeurope.org/wp-content/uploads/files/about-wind/statistics/WindEurope-Annual-Statistics-2019.pdf> [Accessed 19 October 2020]."
   ]
  },
  {
   "cell_type": "markdown",
   "metadata": {},
   "source": [
    "[5] SEAI. 2011. *Wind Energy Roadmap 2011-2050.* [online] Available at: <https://www.seai.ie/publications/Wind_Energy_Roadmap_2011-2050.pdf> [Accessed 18 October 2020]."
   ]
  },
  {
   "cell_type": "markdown",
   "metadata": {},
   "source": [
    "[6] Sølverød, F., 2017. *Machine Learning For Wind Energy Prediction - Possible Improvements Over Traditional Methods.* [online] Duo.uio.no. Available at: <https://www.duo.uio.no/bitstream/handle/10852/57735/Master_Thesis_Finn_Erik_20170525_FINAL.pdf?sequence=7&isAllowed=y> [Accessed 19 October 2020]."
   ]
  },
  {
   "cell_type": "markdown",
   "metadata": {},
   "source": [
    "[7] Wang, X., Guo, P. and Huang, X., 2011. *A Review Of Wind Power Forecasting Models.* [online] Elsevier. Available at: <https://www.sciencedirect.com/science/article/pii/S1876610211019291> [Accessed 20 October 2020]."
   ]
  },
  {
   "cell_type": "markdown",
   "metadata": {},
   "source": [
    "[8] Evans, R., 2019. *Simple Linear Regression - An Easy Introduction & Examples.* [online] Scribbr. Available at: <https://www.scribbr.com/statistics/simple-linear-regression/> [Accessed 20 October 2020]."
   ]
  },
  {
   "cell_type": "markdown",
   "metadata": {},
   "source": [
    "[9] Khamushkin, I., 2017. *Calculating Energy Production From Weather Forecast In Python.* [online] Medium. Available at: <https://medium.com/planet-os/calculating-energy-production-from-weather-forecast-in-python-3c990047daa> [Accessed 20 October 2020]."
   ]
  },
  {
   "cell_type": "markdown",
   "metadata": {},
   "source": [
    "[10] Wadhvani, R., Shukla, S., Gyanchandani, M. and Rasool, A., 2017. *Analysis Of Statistical Techniques To Estimate Wind Turbine Power Generation.* [online] Paper.ijcsns.org. Available at: <http://paper.ijcsns.org/07_book/201702/20170232.pdf> [Accessed 21 October 2020]."
   ]
  },
  {
   "cell_type": "markdown",
   "metadata": {},
   "source": [
    "[11] Kealy, T., Barrett, M. and Kearney, D., 2015. *How Profitable Are Wind Turbine Projects? An Empirical Analysis Of A 3.5 MW Wind Farm In Ireland Of A 3.5 MW Wind Farm In Ireland.* [online] Arrow.tudublin.ie. Available at: <https://arrow.tudublin.ie/cgi/viewcontent.cgi?article=1101&context=engscheleart2> [Accessed 21 October 2020]."
   ]
  },
  {
   "cell_type": "markdown",
   "metadata": {},
   "source": [
    "[12] Katabathun, N., Gundabathina, S. and Gummadi, D., 2020. *Prediciting Power Output Based On Weather Condition On Wind Turbines.* [online] Junikhyat.com. Available at: <http://www.junikhyat.com/no_14_may_20/33.pdf?i=1> [Accessed 21 October 2020]."
   ]
  },
  {
   "cell_type": "markdown",
   "metadata": {},
   "source": [
    "[13] Mester, T., 2018. *Pandas Tutorial 1: Pandas Basics (Read_Csv, Dataframe, Data Selection, Etc.).* [online] Data36. Available at: <https://data36.com/pandas-tutorial-1-basics-reading-data-files-dataframes-data-selection/> [Accessed 21 October 2020]."
   ]
  },
  {
   "cell_type": "markdown",
   "metadata": {},
   "source": [
    "[14] Klare, M., Dongre, S., James, M. and James, M., 2020. *Energy Wars: How Oil And Gas Are Fuelling Global Conflicts*. [online] Energy Post. Available at: <https://energypost.eu/twenty-first-century-energy-wars-oil-gas-fuelling-global-conflicts/> [Accessed 24 October 2020]."
   ]
  },
  {
   "cell_type": "markdown",
   "metadata": {},
   "source": [
    "[15] Scott, R., 2020. *Linear Regression In Python With Scikit-Learn*. [online] Stack Abuse. Available at: <https://stackabuse.com/linear-regression-in-python-with-scikit-learn/> [Accessed 21 October 2020]."
   ]
  },
  {
   "cell_type": "markdown",
   "metadata": {},
   "source": [
    "[16] Nelson, V. and Starcher, K., 2019. *How To Select A Location For A Wind Farm*. [online] Routledge.com. Available at: <https://www.routledge.com/blog/article/how-to-select-a-location-for-a-wind farm? [Accessed 19 October 2020]."
   ]
  },
  {
   "cell_type": "markdown",
   "metadata": {},
   "source": [
    "[17] Lane, C., 2020. *Wind Energy Pros And Cons.* [online] Solar Reviews. Available at: <https://www.solarreviews.com/blog/wind-energy-pros-and-cons> [Accessed 25 October 2020]."
   ]
  },
  {
   "cell_type": "code",
   "execution_count": null,
   "metadata": {},
   "outputs": [],
   "source": []
  }
 ],
 "metadata": {
  "cite2c": {
   "citations": {
    "8311927/2VLQQBQ2": {
     "author": [
      {
       "family": "Miller",
       "given": "Wayne"
      }
     ],
     "container-title": "Science & Technology Review",
     "id": "8311927/2VLQQBQ2",
     "issued": {
      "year": 2014
     },
     "language": "en",
     "page": "9",
     "page-first": "9",
     "title": "Predicting Wind Power \t\twith Greater Accuracy",
     "type": "article-journal"
    },
    "8311927/BP5UJRXL": {
     "DOI": "10.1109/TSTE.2014.2345059",
     "abstract": "Wind turbine power curve modeling is an important tool in turbine performance monitoring and power forecasting. There are several statistical techniques to fit the empirical power curve of a wind turbine, which can be classified into parametric and nonparametric methods. In this paper, we study four of these methods to estimate the wind turbine power curve. Polynomial regression is studied as the benchmark parametric model, and issues associated with this technique are discussed. We then introduce the locally weighted polynomial regression method, and show its advantages over the polynomial regression. Also, the spline regression method is examined to achieve more flexibility for fitting the power curve. Finally, we develop a penalized spline regression model to address the issues of choosing the number and location of knots in the spline regression. The performance of the presented methods is evaluated using two simulated data sets as well as an actual operational power data of a wind farm in North America.",
     "author": [
      {
       "family": "Shokrzadeh",
       "given": "S."
      },
      {
       "family": "Jozani",
       "given": "M. Jafari"
      },
      {
       "family": "Bibeau",
       "given": "E."
      }
     ],
     "container-title": "IEEE Transactions on Sustainable Energy",
     "id": "8311927/BP5UJRXL",
     "issue": "4",
     "issued": {
      "month": 10,
      "year": 2014
     },
     "note": "Conference Name: IEEE Transactions on Sustainable Energy",
     "page": "1262-1269",
     "page-first": "1262",
     "title": "Wind Turbine Power Curve Modeling Using Advanced Parametric and Nonparametric Methods",
     "type": "article-journal",
     "volume": "5"
    },
    "8311927/FLVWTRF3": {
     "URL": "https://arrow.tudublin.ie/cgi/viewcontent.cgi?article=1101&context=engscheleart2",
     "accessed": {
      "day": 24,
      "month": 10,
      "year": 2020
     },
     "id": "8311927/FLVWTRF3",
     "title": "Kealy - 2015 - How Profitable are Wind Turbine Projects An Empir.pdf",
     "type": "article"
    },
    "8311927/GH6RYWZH": {
     "abstract": "Accurate modeling of any system requires appropriate knowledge of all the factors affecting performance of the system. This paper provides the detail of the machine and site specific factors affecting the performance of the wind turbine power production. Various mathematical models have been compared, which were previously applied for power prediction of wind turbine. The recent developments in power prediction of wind turbine relied on power curve modeling technique. The wind turbine power curve shows the relationship between wind speed and power generated. The main objective of this paper is analysis of regression based statistical techniques for power prediction. In each technique, the power curves have been derived using the SCADA data obtained from resource file of NREL HOMER software.",
     "author": [
      {
       "family": "Wadhvani",
       "given": "Rajesh"
      },
      {
       "family": "Shukla",
       "given": "Sanyam"
      },
      {
       "family": "Gyanchandani",
       "given": "Manasi"
      },
      {
       "family": "Rasool",
       "given": "Akhtar"
      }
     ],
     "container-title": "International Journal of Computer Science and Network Security",
     "id": "8311927/GH6RYWZH",
     "issued": {
      "year": 2017
     },
     "language": "en",
     "page": "5",
     "page-first": "5",
     "title": "Analysis of Statistical Techniques to Estimate Wind Turbine Power Generation",
     "type": "article-journal"
    },
    "8311927/K3G6P797": {
     "DOI": "10.21427/D7KP71",
     "URL": "http://arrow.dit.ie/engscheleart2/86/",
     "abstract": "With many electricity markets worldwide deregulated or in the process of deregulation, the opportunity for smaller independent generators to provide power to their local power system has increased. For smaller independent wind developers assessing the feasibility of a large scale wind farm project is vitally important due to significant risk associated with the investment. This paper presents a longitudinal case study of a 3.5 MW wind farm situated in the North East of Ireland utilising multiple sources of empirical data obtained over a three year period following commissioning. The findings suggest that an average yearly capacity factor of 34% was recorded from the turbines providing for a simple payback period of 6.7 years. It would appear from this case study that site selection, electricity market conditions, the quality of the control system and the competencies of the design/installation/commissioning company all contributed to the satisfactory results.",
     "accessed": {
      "day": 24,
      "month": 10,
      "year": 2020
     },
     "author": [
      {
       "family": "Kealy",
       "given": "Tony"
      }
     ],
     "id": "8311927/K3G6P797",
     "issued": {
      "year": 2015
     },
     "language": "en",
     "note": "Publisher: Dublin Institute of Technology",
     "shortTitle": "How Profitable are Wind Turbine Projects?",
     "title": "How Profitable are Wind Turbine Projects? An Empirical Analysis of a 3.5 MW Wind Farm In Ireland.",
     "title-short": "How Profitable are Wind Turbine Projects?",
     "type": "article-journal"
    },
    "8311927/M6MB7T4P": {
     "URL": "https://www.seai.ie/publications/Wind_Energy_Roadmap_2011-2050.pdf",
     "accessed": {
      "day": 24,
      "month": 10,
      "year": 2020
     },
     "id": "8311927/M6MB7T4P",
     "title": "Wind_Energy_Roadmap_2011-2050.pdf",
     "type": "article"
    }
   }
  },
  "kernelspec": {
   "display_name": "Python 3",
   "language": "python",
   "name": "python3"
  },
  "language_info": {
   "codemirror_mode": {
    "name": "ipython",
    "version": 3
   },
   "file_extension": ".py",
   "mimetype": "text/x-python",
   "name": "python",
   "nbconvert_exporter": "python",
   "pygments_lexer": "ipython3",
   "version": "3.8.3"
  }
 },
 "nbformat": 4,
 "nbformat_minor": 4
}
